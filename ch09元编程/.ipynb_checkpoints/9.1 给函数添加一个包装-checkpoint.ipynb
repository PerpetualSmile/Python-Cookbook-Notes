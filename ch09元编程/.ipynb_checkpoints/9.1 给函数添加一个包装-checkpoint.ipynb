{
 "cells": [
  {
   "cell_type": "markdown",
   "metadata": {},
   "source": [
    "# 给函数添加一个包装\n",
    "- 我们想对函数加上一个包装层（wrapper layer）以添加额外的处理（例如，记录日志、计时统计）"
   ]
  },
  {
   "cell_type": "markdown",
   "metadata": {},
   "source": [
    "## 元编程介绍（Don`t repeat yourself）"
   ]
  },
  {
   "cell_type": "markdown",
   "metadata": {},
   "source": [
    "- 软件开发中最重要的一条真理就是“不要重复自己的工作(Don`t repeat yourself)”，也就是说，任何时候当需要创建高度重复的代码（或者需要复制粘贴源代码）的时候，通常都需要寻找一个更加优雅的解决方案。在python中，这类问题常常会归类为“元编程”。\n",
    "- 简而言之，元编程的主要目标是创建函数和类，并用它们来操纵代码（比如说修改、生成或者包装已有的代码）。\n",
    "- python中基于这个目的的主要特性包括装饰器、类装饰器以及元类。\n",
    "- 但是还有许多其他有用的主题——包括对象签名、用exex()来执行代码以及检查函数和类的内部结构。本章的主要目的是探讨各种元编程技术，如何利用这些技术来自定义Python的行为"
   ]
  },
  {
   "cell_type": "markdown",
   "metadata": {},
   "source": [
    "## 如果需要用额外的代码对函数进行包装，可以定义一个装饰器函数"
   ]
  },
  {
   "cell_type": "code",
   "execution_count": 1,
   "metadata": {
    "ExecuteTime": {
     "end_time": "2017-10-28T06:37:36.876741Z",
     "start_time": "2017-10-28T06:37:36.867748Z"
    },
    "collapsed": true
   },
   "outputs": [],
   "source": [
    "import time\n",
    "from functools import wraps\n",
    "\n",
    "\n",
    "def timethis(func):\n",
    "    '''\n",
    "     Decorator that reports the execution time.\n",
    "    '''\n",
    "\n",
    "    @wraps(func)\n",
    "    def wrapper(*args, **kwargs):\n",
    "        start = time.time()\n",
    "        result = func(*args, **kwargs)\n",
    "        end = time.time()\n",
    "        print(func.__name__, end - start)\n",
    "        return result\n",
    "    return wrapper"
   ]
  },
  {
   "cell_type": "markdown",
   "metadata": {},
   "source": [
    "使用示例"
   ]
  },
  {
   "cell_type": "code",
   "execution_count": 2,
   "metadata": {
    "ExecuteTime": {
     "end_time": "2017-10-28T06:37:36.915338Z",
     "start_time": "2017-10-28T06:37:36.881755Z"
    },
    "collapsed": true
   },
   "outputs": [],
   "source": [
    "@timethis\n",
    "def countdown(n):\n",
    "    while n > 0:\n",
    "        n -= 1"
   ]
  },
  {
   "cell_type": "code",
   "execution_count": 3,
   "metadata": {
    "ExecuteTime": {
     "end_time": "2017-10-28T06:37:37.627436Z",
     "start_time": "2017-10-28T06:37:36.917844Z"
    }
   },
   "outputs": [
    {
     "name": "stdout",
     "output_type": "stream",
     "text": [
      "countdown 0.6850314140319824\n"
     ]
    }
   ],
   "source": [
    "countdown(10000000)"
   ]
  },
  {
   "cell_type": "markdown",
   "metadata": {
    "collapsed": true
   },
   "source": [
    "## 装饰器就是一个函数，它可以接受一个函数作为输入并返回一个新的函数作为输出。"
   ]
  },
  {
   "cell_type": "markdown",
   "metadata": {},
   "source": [
    "下面两种写法的效果是一样的"
   ]
  },
  {
   "cell_type": "code",
   "execution_count": 4,
   "metadata": {
    "ExecuteTime": {
     "end_time": "2017-10-28T06:37:37.633954Z",
     "start_time": "2017-10-28T06:37:37.630445Z"
    },
    "collapsed": true
   },
   "outputs": [],
   "source": [
    "@timethis\n",
    "def countdown(n):\n",
    "    pass"
   ]
  },
  {
   "cell_type": "code",
   "execution_count": 5,
   "metadata": {
    "ExecuteTime": {
     "end_time": "2017-10-28T06:37:37.673029Z",
     "start_time": "2017-10-28T06:37:37.636461Z"
    },
    "collapsed": true
   },
   "outputs": [],
   "source": [
    "def countdown(n):\n",
    "    pass\n",
    "countdown = timethis(countdown)"
   ]
  },
  {
   "cell_type": "markdown",
   "metadata": {},
   "source": [
    "另外，内建的装饰器比如@staticmethod、@classmethod以及@property的工作方式也是一样的。"
   ]
  },
  {
   "cell_type": "code",
   "execution_count": 6,
   "metadata": {
    "ExecuteTime": {
     "end_time": "2017-10-28T06:37:37.697594Z",
     "start_time": "2017-10-28T06:37:37.675537Z"
    }
   },
   "outputs": [],
   "source": [
    "class A:\n",
    "    @classmethod\n",
    "    def method(cls):\n",
    "        pass\n",
    "    \n",
    "class B:\n",
    "    def method(cls):\n",
    "        pass\n",
    "    \n",
    "    method = classmethod(method)"
   ]
  },
  {
   "cell_type": "markdown",
   "metadata": {},
   "source": [
    "## 讨论"
   ]
  },
  {
   "cell_type": "markdown",
   "metadata": {},
   "source": [
    "- 装饰器内部的代码一般会涉及创建一个新的函数，利用*args和**kwargs来接受任意的参数。本节示例中的wrapper()函数正是这么做的。\n",
    "- 在这个函数内部，我们需要调用原来的输入函数（即被包装的那个函数，它是装饰器的输入参数），并返回它的结果\n",
    "- 但是，也可以添加任何想要添加的额外代码（例如计时处理）。这个新创建的wrapper函数会作为装饰器的结果返回，取代了原来的函数。\n",
    "- <span class=\"mark\">需要重点强调的是，装饰器一般不会修改调用签名，也不修改被包装函数的返回结果。</span>\n",
    "- 这里使用```*args和**kwargs```的使用是为了确保可以接受任何形式的输入参数，装饰器的返回值几乎总是和调用```func(*args, **kwargs)```的结果一致。"
   ]
  }
 ],
 "metadata": {
  "hide_input": false,
  "kernelspec": {
   "display_name": "Python 3",
   "language": "python",
   "name": "python3"
  },
  "language_info": {
   "codemirror_mode": {
    "name": "ipython",
    "version": 3
   },
   "file_extension": ".py",
   "mimetype": "text/x-python",
   "name": "python",
   "nbconvert_exporter": "python",
   "pygments_lexer": "ipython3",
   "version": "3.6.1"
  },
  "toc": {
   "nav_menu": {},
   "number_sections": true,
   "sideBar": true,
   "skip_h1_title": false,
   "toc_cell": false,
   "toc_position": {},
   "toc_section_display": "block",
   "toc_window_display": false
  },
  "varInspector": {
   "cols": {
    "lenName": 16,
    "lenType": 16,
    "lenVar": 40
   },
   "kernels_config": {
    "python": {
     "delete_cmd_postfix": "",
     "delete_cmd_prefix": "del ",
     "library": "var_list.py",
     "varRefreshCmd": "print(var_dic_list())"
    },
    "r": {
     "delete_cmd_postfix": ") ",
     "delete_cmd_prefix": "rm(",
     "library": "var_list.r",
     "varRefreshCmd": "cat(var_dic_list()) "
    }
   },
   "types_to_exclude": [
    "module",
    "function",
    "builtin_function_or_method",
    "instance",
    "_Feature"
   ],
   "window_display": false
  }
 },
 "nbformat": 4,
 "nbformat_minor": 2
}
