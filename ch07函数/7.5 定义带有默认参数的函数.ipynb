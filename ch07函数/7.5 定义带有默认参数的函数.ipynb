{
 "cells": [
  {
   "cell_type": "markdown",
   "metadata": {},
   "source": [
    "# 定义带有默认参数的函数\n",
    "- 定义一个函数或者方法，其中有一个或多个参数是可选的并且带有默认值"
   ]
  },
  {
   "cell_type": "markdown",
   "metadata": {},
   "source": [
    "看似很简单，只要在定义中为参数赋值，并确保默认参数出现在最后即可"
   ]
  },
  {
   "cell_type": "code",
   "execution_count": 1,
   "metadata": {
    "ExecuteTime": {
     "end_time": "2017-09-17T08:33:18.386403Z",
     "start_time": "2017-09-17T08:33:18.383423Z"
    },
    "collapsed": true
   },
   "outputs": [],
   "source": [
    "def spam(a, b=42):\n",
    "    print(a, b)"
   ]
  },
  {
   "cell_type": "code",
   "execution_count": 2,
   "metadata": {
    "ExecuteTime": {
     "end_time": "2017-09-17T08:33:18.412500Z",
     "start_time": "2017-09-17T08:33:18.388408Z"
    }
   },
   "outputs": [
    {
     "name": "stdout",
     "output_type": "stream",
     "text": [
      "1 42\n"
     ]
    }
   ],
   "source": [
    "spam(1)"
   ]
  },
  {
   "cell_type": "code",
   "execution_count": 3,
   "metadata": {
    "ExecuteTime": {
     "end_time": "2017-09-17T08:33:18.424504Z",
     "start_time": "2017-09-17T08:33:18.414490Z"
    }
   },
   "outputs": [
    {
     "name": "stdout",
     "output_type": "stream",
     "text": [
      "1 2\n"
     ]
    }
   ],
   "source": [
    "spam(1, 2)"
   ]
  },
  {
   "cell_type": "markdown",
   "metadata": {},
   "source": [
    "如果默认值是可变容器的话，比如列表、字典或者集合，那么应该把None作为默认值"
   ]
  },
  {
   "cell_type": "code",
   "execution_count": 4,
   "metadata": {
    "ExecuteTime": {
     "end_time": "2017-09-17T08:33:18.440546Z",
     "start_time": "2017-09-17T08:33:18.426510Z"
    },
    "collapsed": true
   },
   "outputs": [],
   "source": [
    "def spam(a, b=None):\n",
    "    if b is None:\n",
    "        b = []"
   ]
  },
  {
   "cell_type": "markdown",
   "metadata": {},
   "source": [
    "<span class=\"mark\">如果不想提供默认值，只想编写代码来检测可选参数是否被赋予了某个特定的值，那么可以采用下面的惯用写法</span>"
   ]
  },
  {
   "cell_type": "code",
   "execution_count": 5,
   "metadata": {
    "ExecuteTime": {
     "end_time": "2017-09-17T08:33:18.458594Z",
     "start_time": "2017-09-17T08:33:18.442552Z"
    },
    "collapsed": true
   },
   "outputs": [],
   "source": [
    "_no_value = object()\n",
    "\n",
    "\n",
    "def spam(a, b=_no_value):\n",
    "    if b is _no_value:\n",
    "        print('No b value supplied!')\n",
    "    else:\n",
    "        print(a, b)"
   ]
  },
  {
   "cell_type": "code",
   "execution_count": 6,
   "metadata": {
    "ExecuteTime": {
     "end_time": "2017-09-17T08:33:18.478649Z",
     "start_time": "2017-09-17T08:33:18.466616Z"
    }
   },
   "outputs": [
    {
     "name": "stdout",
     "output_type": "stream",
     "text": [
      "No b value supplied!\n"
     ]
    }
   ],
   "source": [
    "spam(1)"
   ]
  },
  {
   "cell_type": "code",
   "execution_count": 7,
   "metadata": {
    "ExecuteTime": {
     "end_time": "2017-09-17T08:33:18.497699Z",
     "start_time": "2017-09-17T08:33:18.480654Z"
    }
   },
   "outputs": [
    {
     "name": "stdout",
     "output_type": "stream",
     "text": [
      "1 2\n"
     ]
    }
   ],
   "source": [
    "spam(1, 2)"
   ]
  },
  {
   "cell_type": "code",
   "execution_count": 8,
   "metadata": {
    "ExecuteTime": {
     "end_time": "2017-09-17T08:33:18.513742Z",
     "start_time": "2017-09-17T08:33:18.499708Z"
    }
   },
   "outputs": [
    {
     "name": "stdout",
     "output_type": "stream",
     "text": [
      "1 None\n"
     ]
    }
   ],
   "source": [
    "spam(1, None)"
   ]
  },
  {
   "cell_type": "markdown",
   "metadata": {},
   "source": [
    "<span class=\"mark\">不传递任何值和传递None是有区别的，因为None有时也会被视为合法参数传入</span>"
   ]
  },
  {
   "cell_type": "markdown",
   "metadata": {},
   "source": [
    "## 几个注意点 "
   ]
  },
  {
   "cell_type": "markdown",
   "metadata": {
    "ExecuteTime": {
     "end_time": "2017-09-17T07:33:12.461962Z",
     "start_time": "2017-09-17T07:33:12.135067Z"
    }
   },
   "source": [
    "对默认参数的赋值只会在函数定义的时候绑定一次"
   ]
  },
  {
   "cell_type": "code",
   "execution_count": 9,
   "metadata": {
    "ExecuteTime": {
     "end_time": "2017-09-17T08:33:18.533795Z",
     "start_time": "2017-09-17T08:33:18.515747Z"
    },
    "collapsed": true
   },
   "outputs": [],
   "source": [
    "x = 24\n",
    "def spam(a, b=x):\n",
    "    print(a, b)"
   ]
  },
  {
   "cell_type": "code",
   "execution_count": 10,
   "metadata": {
    "ExecuteTime": {
     "end_time": "2017-09-17T08:33:18.554850Z",
     "start_time": "2017-09-17T08:33:18.535801Z"
    }
   },
   "outputs": [
    {
     "name": "stdout",
     "output_type": "stream",
     "text": [
      "1 24\n"
     ]
    }
   ],
   "source": [
    "spam(1)"
   ]
  },
  {
   "cell_type": "code",
   "execution_count": 11,
   "metadata": {
    "ExecuteTime": {
     "end_time": "2017-09-17T08:33:18.572898Z",
     "start_time": "2017-09-17T08:33:18.557859Z"
    }
   },
   "outputs": [
    {
     "name": "stdout",
     "output_type": "stream",
     "text": [
      "1 24\n"
     ]
    }
   ],
   "source": [
    "x = 0\n",
    "spam(1)"
   ]
  },
  {
   "cell_type": "markdown",
   "metadata": {},
   "source": [
    "可以看到修改x的值并没有对函数产生影响。这是因为默认值在函数定义的时候就已经确定好了。"
   ]
  },
  {
   "cell_type": "markdown",
   "metadata": {},
   "source": [
    "另外一点是，给默认参数赋值的应该总是不可变的对象，比如None、True、False、数字或者字符串。"
   ]
  },
  {
   "cell_type": "markdown",
   "metadata": {},
   "source": [
    "特别注意不要编写这样的代码："
   ]
  },
  {
   "cell_type": "code",
   "execution_count": 12,
   "metadata": {
    "ExecuteTime": {
     "end_time": "2017-09-17T08:33:18.594958Z",
     "start_time": "2017-09-17T08:33:18.574904Z"
    }
   },
   "outputs": [],
   "source": [
    "def spam(a, b=[]):\n",
    "    pass"
   ]
  },
  {
   "cell_type": "markdown",
   "metadata": {},
   "source": [
    "这样做会产生麻烦。如果默认值在函数体之外被修改了，那么这种修改在之后的函数调用中会对参数的默认值产生持续的影响"
   ]
  },
  {
   "cell_type": "code",
   "execution_count": 13,
   "metadata": {
    "ExecuteTime": {
     "end_time": "2017-09-17T08:33:18.611000Z",
     "start_time": "2017-09-17T08:33:18.596963Z"
    },
    "collapsed": true
   },
   "outputs": [],
   "source": [
    "def spam(a, b=[]):\n",
    "    print(b)\n",
    "    return b"
   ]
  },
  {
   "cell_type": "code",
   "execution_count": 14,
   "metadata": {
    "ExecuteTime": {
     "end_time": "2017-09-17T08:33:18.630051Z",
     "start_time": "2017-09-17T08:33:18.613006Z"
    }
   },
   "outputs": [
    {
     "name": "stdout",
     "output_type": "stream",
     "text": [
      "[]\n"
     ]
    }
   ],
   "source": [
    "x = spam(1)"
   ]
  },
  {
   "cell_type": "code",
   "execution_count": 15,
   "metadata": {
    "ExecuteTime": {
     "end_time": "2017-09-17T08:33:18.649101Z",
     "start_time": "2017-09-17T08:33:18.632057Z"
    }
   },
   "outputs": [],
   "source": [
    "x.append(99)\n",
    "x.append('a')"
   ]
  },
  {
   "cell_type": "code",
   "execution_count": 16,
   "metadata": {
    "ExecuteTime": {
     "end_time": "2017-09-17T08:33:18.675170Z",
     "start_time": "2017-09-17T08:33:18.651108Z"
    }
   },
   "outputs": [
    {
     "data": {
      "text/plain": [
       "[99, 'a']"
      ]
     },
     "execution_count": 16,
     "metadata": {},
     "output_type": "execute_result"
    }
   ],
   "source": [
    "x"
   ]
  },
  {
   "cell_type": "code",
   "execution_count": 17,
   "metadata": {
    "ExecuteTime": {
     "end_time": "2017-09-17T08:33:18.698232Z",
     "start_time": "2017-09-17T08:33:18.677176Z"
    }
   },
   "outputs": [
    {
     "name": "stdout",
     "output_type": "stream",
     "text": [
      "[99, 'a']\n"
     ]
    },
    {
     "data": {
      "text/plain": [
       "[99, 'a']"
      ]
     },
     "execution_count": 17,
     "metadata": {},
     "output_type": "execute_result"
    }
   ],
   "source": [
    "spam(1)"
   ]
  },
  {
   "cell_type": "markdown",
   "metadata": {},
   "source": [
    "出现上述问题的最好解决办法是使用None作为默认值，并且在函数体中增加一个对默认值的检查"
   ]
  },
  {
   "cell_type": "markdown",
   "metadata": {},
   "source": [
    "当检测默认参数是否是None时必须注意对于is操作符的运用。有时候可能会犯这样的错误："
   ]
  },
  {
   "cell_type": "code",
   "execution_count": 18,
   "metadata": {
    "ExecuteTime": {
     "end_time": "2017-09-17T08:33:18.716280Z",
     "start_time": "2017-09-17T08:33:18.700241Z"
    },
    "collapsed": true
   },
   "outputs": [],
   "source": [
    "def spam(a, b=None):\n",
    "    if not b:\n",
    "        b = []\n",
    "    print(b)"
   ]
  },
  {
   "cell_type": "markdown",
   "metadata": {},
   "source": [
    "问题在于尽管None会被判为False，但是还有许多其他对象如长度为0的字符串、列表、元组、字典等都会被判为False，从而错误地忽略掉这些值。"
   ]
  },
  {
   "cell_type": "code",
   "execution_count": 19,
   "metadata": {
    "ExecuteTime": {
     "end_time": "2017-09-17T08:33:18.739342Z",
     "start_time": "2017-09-17T08:33:18.718286Z"
    }
   },
   "outputs": [
    {
     "name": "stdout",
     "output_type": "stream",
     "text": [
      "[]\n"
     ]
    }
   ],
   "source": [
    "spam(1)  # OK"
   ]
  },
  {
   "cell_type": "code",
   "execution_count": 20,
   "metadata": {
    "ExecuteTime": {
     "end_time": "2017-09-17T08:33:18.767416Z",
     "start_time": "2017-09-17T08:33:18.741347Z"
    }
   },
   "outputs": [
    {
     "name": "stdout",
     "output_type": "stream",
     "text": [
      "[]\n"
     ]
    }
   ],
   "source": [
    "x = {}\n",
    "spam(1, x)  # error, x的之被重写了"
   ]
  },
  {
   "cell_type": "code",
   "execution_count": 21,
   "metadata": {
    "ExecuteTime": {
     "end_time": "2017-09-17T08:33:18.789476Z",
     "start_time": "2017-09-17T08:33:18.770424Z"
    }
   },
   "outputs": [
    {
     "name": "stdout",
     "output_type": "stream",
     "text": [
      "[]\n"
     ]
    }
   ],
   "source": [
    "spam(1, 0)"
   ]
  },
  {
   "cell_type": "code",
   "execution_count": 22,
   "metadata": {
    "ExecuteTime": {
     "end_time": "2017-09-17T08:33:18.809529Z",
     "start_time": "2017-09-17T08:33:18.791481Z"
    }
   },
   "outputs": [
    {
     "name": "stdout",
     "output_type": "stream",
     "text": [
      "[]\n"
     ]
    }
   ],
   "source": [
    "spam(1, '')"
   ]
  },
  {
   "cell_type": "markdown",
   "metadata": {},
   "source": [
    "最为棘手的地方在于不一定能使用None、0或者False当做默认值来检测用户是否提供了参数（因为这些值都是合法参数，用户很有可能把它们当做参数）。"
   ]
  },
  {
   "cell_type": "markdown",
   "metadata": {},
   "source": [
    "解决办法前面已经展示过，使用object()创建一个独特的私有实例，因为用户使用object()作为输入参数的可能性几乎为0。"
   ]
  }
 ],
 "metadata": {
  "hide_input": false,
  "kernelspec": {
   "display_name": "Python 3",
   "language": "python",
   "name": "python3"
  },
  "language_info": {
   "codemirror_mode": {
    "name": "ipython",
    "version": 3
   },
   "file_extension": ".py",
   "mimetype": "text/x-python",
   "name": "python",
   "nbconvert_exporter": "python",
   "pygments_lexer": "ipython3",
   "version": "3.6.1"
  },
  "toc": {
   "nav_menu": {},
   "number_sections": true,
   "sideBar": true,
   "skip_h1_title": false,
   "toc_cell": false,
   "toc_position": {},
   "toc_section_display": "block",
   "toc_window_display": false
  },
  "varInspector": {
   "cols": {
    "lenName": 16,
    "lenType": 16,
    "lenVar": 40
   },
   "kernels_config": {
    "python": {
     "delete_cmd_postfix": "",
     "delete_cmd_prefix": "del ",
     "library": "var_list.py",
     "varRefreshCmd": "print(var_dic_list())"
    },
    "r": {
     "delete_cmd_postfix": ") ",
     "delete_cmd_prefix": "rm(",
     "library": "var_list.r",
     "varRefreshCmd": "cat(var_dic_list()) "
    }
   },
   "types_to_exclude": [
    "module",
    "function",
    "builtin_function_or_method",
    "instance",
    "_Feature"
   ],
   "window_display": false
  }
 },
 "nbformat": 4,
 "nbformat_minor": 2
}
