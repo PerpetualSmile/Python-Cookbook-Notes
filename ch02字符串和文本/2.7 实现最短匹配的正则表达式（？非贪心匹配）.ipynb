{
 "cells": [
  {
   "cell_type": "markdown",
   "metadata": {},
   "source": [
    "# 定义实现最短匹配的正则表达式\n",
    "- 问题：正则表达式对文本模式做匹配，但默认是贪心算法，即识别出来的是最长匹配，我们想要实现最短的可能匹配\n",
    "- 解决：使用？"
   ]
  },
  {
   "cell_type": "code",
   "execution_count": 1,
   "metadata": {
    "ExecuteTime": {
     "end_time": "2017-09-16T08:35:58.590637Z",
     "start_time": "2017-09-16T08:35:58.587629Z"
    },
    "collapsed": true
   },
   "outputs": [],
   "source": [
    "import re"
   ]
  },
  {
   "cell_type": "code",
   "execution_count": 2,
   "metadata": {
    "ExecuteTime": {
     "end_time": "2017-09-16T08:35:58.623725Z",
     "start_time": "2017-09-16T08:35:58.592647Z"
    }
   },
   "outputs": [
    {
     "data": {
      "text/plain": [
       "[' comment1 ']"
      ]
     },
     "execution_count": 2,
     "metadata": {},
     "output_type": "execute_result"
    }
   ],
   "source": [
    "text1 = r'\\* comment1 *\\ '\n",
    "str_pat = re.compile(r'\\\\\\*(.*)\\*\\\\')\n",
    "str_pat.findall(text1)"
   ]
  },
  {
   "cell_type": "code",
   "execution_count": 3,
   "metadata": {
    "ExecuteTime": {
     "end_time": "2017-09-16T08:35:58.640770Z",
     "start_time": "2017-09-16T08:35:58.625731Z"
    }
   },
   "outputs": [
    {
     "data": {
      "text/plain": [
       "[' comment1 *\\\\ code \\\\* comment2 ']"
      ]
     },
     "execution_count": 3,
     "metadata": {},
     "output_type": "execute_result"
    }
   ],
   "source": [
    "text2 = '\\* comment1 *\\ code \\* comment2 *\\ '\n",
    "str_pat.findall(text2)"
   ]
  },
  {
   "cell_type": "markdown",
   "metadata": {},
   "source": [
    "以上例子中(.*)默认采用的是贪心策略，在text2中默认匹配了最长的两个注释符号之间的内容"
   ]
  },
  {
   "cell_type": "markdown",
   "metadata": {},
   "source": [
    "在.*后面加？表示非贪心匹配"
   ]
  },
  {
   "cell_type": "code",
   "execution_count": 4,
   "metadata": {
    "ExecuteTime": {
     "end_time": "2017-09-16T08:35:58.659821Z",
     "start_time": "2017-09-16T08:35:58.642775Z"
    }
   },
   "outputs": [
    {
     "data": {
      "text/plain": [
       "[' comment1 ', ' comment2 ']"
      ]
     },
     "execution_count": 4,
     "metadata": {},
     "output_type": "execute_result"
    }
   ],
   "source": [
    "str_pat = re.compile(r'\\\\\\*(.*?)\\*\\\\')\n",
    "str_pat.findall(text2)"
   ]
  },
  {
   "cell_type": "markdown",
   "metadata": {
    "collapsed": true
   },
   "source": [
    "总结？的用法（非贪心）"
   ]
  },
  {
   "cell_type": "markdown",
   "metadata": {},
   "source": [
    "\n",
    "| 语法 | 用法 |\n",
    "| :- | :- |\n",
    "| ? | 重复0次或一次，表示可选的分组 |\n",
    "| *？ | 重复任意多次，但尽可能少重复 |\n",
    "| +？ | 重复1次或更多次，但尽可能少重复 |\n",
    "| ？？ | 重复0次或1次，但尽可能少重复 |\n",
    "| {n,}? | 重复n次或更多次，但尽可能少重复 | \n",
    "| {n,m}? | 重复n到m次，但尽可能少重复 |\n"
   ]
  },
  {
   "cell_type": "markdown",
   "metadata": {},
   "source": [
    "数量词的贪心和非贪心模式：<span class=\"mark\">python中数量词默认是贪心的</span><span class=\"mark\">，总是尝试匹配尽可能多的字符</span>。而利用$？$表示的非贪心的匹配总是尝试匹配最少的字符。"
   ]
  }
 ],
 "metadata": {
  "hide_input": false,
  "kernelspec": {
   "display_name": "Python 3",
   "language": "python",
   "name": "python3"
  },
  "language_info": {
   "codemirror_mode": {
    "name": "ipython",
    "version": 3
   },
   "file_extension": ".py",
   "mimetype": "text/x-python",
   "name": "python",
   "nbconvert_exporter": "python",
   "pygments_lexer": "ipython3",
   "version": "3.6.1"
  },
  "toc": {
   "nav_menu": {},
   "number_sections": true,
   "sideBar": true,
   "skip_h1_title": false,
   "toc_cell": false,
   "toc_position": {},
   "toc_section_display": "block",
   "toc_window_display": false
  },
  "varInspector": {
   "cols": {
    "lenName": 16,
    "lenType": 16,
    "lenVar": 40
   },
   "kernels_config": {
    "python": {
     "delete_cmd_postfix": "",
     "delete_cmd_prefix": "del ",
     "library": "var_list.py",
     "varRefreshCmd": "print(var_dic_list())"
    },
    "r": {
     "delete_cmd_postfix": ") ",
     "delete_cmd_prefix": "rm(",
     "library": "var_list.r",
     "varRefreshCmd": "cat(var_dic_list()) "
    }
   },
   "types_to_exclude": [
    "module",
    "function",
    "builtin_function_or_method",
    "instance",
    "_Feature"
   ],
   "window_display": false
  }
 },
 "nbformat": 4,
 "nbformat_minor": 2
}
