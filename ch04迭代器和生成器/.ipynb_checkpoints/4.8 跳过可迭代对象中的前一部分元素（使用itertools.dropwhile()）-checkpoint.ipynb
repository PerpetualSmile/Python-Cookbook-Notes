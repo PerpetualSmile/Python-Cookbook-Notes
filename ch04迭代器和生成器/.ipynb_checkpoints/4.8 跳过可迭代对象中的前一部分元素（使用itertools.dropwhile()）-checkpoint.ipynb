{
 "cells": [
  {
   "cell_type": "markdown",
   "metadata": {},
   "source": [
    "# 跳过可迭代对象中的前一部分元素"
   ]
  },
  {
   "cell_type": "markdown",
   "metadata": {},
   "source": [
    "在对某个可迭代对象做迭代处理时，如果对前面几个元素不感兴趣，只想丢弃。"
   ]
  },
  {
   "cell_type": "markdown",
   "metadata": {},
   "source": [
    "## 使用itertools.dropwhile()函数\n",
    "- 只需要提供一个函数和一个可迭代对象\n",
    "- 该函数返回的迭代器会丢弃掉序列中的前面几个元素， 只要他们在所提供的函数中但会True即可，之后序列中剩余的全部元素都会产生出来"
   ]
  },
  {
   "cell_type": "code",
   "execution_count": 1,
   "metadata": {
    "ExecuteTime": {
     "end_time": "2018-03-25T14:34:07.153994Z",
     "start_time": "2018-03-25T14:34:07.137449Z"
    }
   },
   "outputs": [
    {
     "name": "stdout",
     "output_type": "stream",
     "text": [
      "Overwriting text.txt\n"
     ]
    }
   ],
   "source": [
    "%%writefile text.txt\n",
    "# 1\n",
    "# 2\n",
    "# 3\n",
    "# 4\n",
    "5\n",
    "6\n",
    "# 7\n",
    "6"
   ]
  },
  {
   "cell_type": "markdown",
   "metadata": {},
   "source": [
    "跳过所有的初始注释行"
   ]
  },
  {
   "cell_type": "code",
   "execution_count": 2,
   "metadata": {
    "ExecuteTime": {
     "end_time": "2018-03-25T14:34:07.178807Z",
     "start_time": "2018-03-25T14:34:07.157002Z"
    }
   },
   "outputs": [
    {
     "name": "stdout",
     "output_type": "stream",
     "text": [
      "5\n",
      "6\n",
      "# 7\n",
      "6"
     ]
    }
   ],
   "source": [
    "from itertools import dropwhile\n",
    "with open(\"text.txt\") as f:\n",
    "    for line in dropwhile(lambda x: x.startswith('#'), f):\n",
    "        print(line, end='')"
   ]
  },
  {
   "cell_type": "markdown",
   "metadata": {},
   "source": [
    "dropwhile()函数式根据测试函数的结果来跳过前面的元素"
   ]
  },
  {
   "cell_type": "markdown",
   "metadata": {},
   "source": [
    "## 如果恰好知道要跳过多少个元素，可以使用itertools.islice()函数"
   ]
  },
  {
   "cell_type": "code",
   "execution_count": 3,
   "metadata": {
    "ExecuteTime": {
     "end_time": "2018-03-25T14:34:07.201371Z",
     "start_time": "2018-03-25T14:34:07.182820Z"
    }
   },
   "outputs": [
    {
     "name": "stdout",
     "output_type": "stream",
     "text": [
      "1\n",
      "4\n",
      "10\n",
      "15\n"
     ]
    }
   ],
   "source": [
    "from itertools import islice\n",
    "items = ['a', 'b', 'c', 1, 4, 10, 15]\n",
    "for x in islice(items, 3, None):\n",
    "    print(x)"
   ]
  },
  {
   "cell_type": "markdown",
   "metadata": {},
   "source": [
    "dropwhile()和islice()都是很方便实用的函数，可以利用它们来避免写出如下所示的混乱代码"
   ]
  },
  {
   "cell_type": "code",
   "execution_count": 4,
   "metadata": {
    "ExecuteTime": {
     "end_time": "2018-03-25T14:34:07.222924Z",
     "start_time": "2018-03-25T14:34:07.204375Z"
    }
   },
   "outputs": [
    {
     "name": "stdout",
     "output_type": "stream",
     "text": [
      "5\n",
      "6\n",
      "# 7\n",
      "6"
     ]
    }
   ],
   "source": [
    "with open(\"text.txt\") as f:\n",
    "    # 跳过开头的注释\n",
    "    while True:\n",
    "        line = next(f, '')\n",
    "        if not line.startswith('#'):\n",
    "            break;\n",
    "    \n",
    "    # 处理剩余的内容\n",
    "    while line:\n",
    "        print(line, end='')\n",
    "        line = next(f, None)"
   ]
  },
  {
   "cell_type": "markdown",
   "metadata": {},
   "source": [
    "只丢弃可迭代对象中的前一部分元素和对全部元素进行过滤也是有所区别的。可以重写如下代码："
   ]
  },
  {
   "cell_type": "code",
   "execution_count": 5,
   "metadata": {
    "ExecuteTime": {
     "end_time": "2018-03-25T14:34:07.248993Z",
     "start_time": "2018-03-25T14:34:07.228438Z"
    }
   },
   "outputs": [
    {
     "name": "stdout",
     "output_type": "stream",
     "text": [
      "5\n",
      "6\n",
      "6"
     ]
    }
   ],
   "source": [
    "with open(\"text.txt\") as f:\n",
    "    lines = (line for line in f if not line.startswith(\"#\"))\n",
    "    for line in lines:\n",
    "        print(line, end='')"
   ]
  }
 ],
 "metadata": {
  "hide_input": false,
  "kernelspec": {
   "display_name": "Python 3",
   "language": "python",
   "name": "python3"
  },
  "language_info": {
   "codemirror_mode": {
    "name": "ipython",
    "version": 3
   },
   "file_extension": ".py",
   "mimetype": "text/x-python",
   "name": "python",
   "nbconvert_exporter": "python",
   "pygments_lexer": "ipython3",
   "version": "3.6.1"
  },
  "toc": {
   "nav_menu": {},
   "number_sections": true,
   "sideBar": true,
   "skip_h1_title": false,
   "toc_cell": false,
   "toc_position": {},
   "toc_section_display": "block",
   "toc_window_display": false
  },
  "varInspector": {
   "cols": {
    "lenName": 16,
    "lenType": 16,
    "lenVar": 40
   },
   "kernels_config": {
    "python": {
     "delete_cmd_postfix": "",
     "delete_cmd_prefix": "del ",
     "library": "var_list.py",
     "varRefreshCmd": "print(var_dic_list())"
    },
    "r": {
     "delete_cmd_postfix": ") ",
     "delete_cmd_prefix": "rm(",
     "library": "var_list.r",
     "varRefreshCmd": "cat(var_dic_list()) "
    }
   },
   "types_to_exclude": [
    "module",
    "function",
    "builtin_function_or_method",
    "instance",
    "_Feature"
   ],
   "window_display": false
  }
 },
 "nbformat": 4,
 "nbformat_minor": 2
}
