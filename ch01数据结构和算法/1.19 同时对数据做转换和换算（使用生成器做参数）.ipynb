{
 "cells": [
  {
   "cell_type": "markdown",
   "metadata": {},
   "source": [
    "# 同时对数据做转换和换算\n",
    "- 在函数中使用生成器表达式"
   ]
  },
  {
   "cell_type": "markdown",
   "metadata": {},
   "source": [
    "## 计算平方和"
   ]
  },
  {
   "cell_type": "code",
   "execution_count": 1,
   "metadata": {
    "ExecuteTime": {
     "end_time": "2017-09-09T04:47:20.972653Z",
     "start_time": "2017-09-09T04:47:20.959645Z"
    }
   },
   "outputs": [
    {
     "data": {
      "text/plain": [
       "55"
      ]
     },
     "execution_count": 1,
     "metadata": {},
     "output_type": "execute_result"
    }
   ],
   "source": [
    "nums = [1, 2, 3, 4, 5]\n",
    "s = sum(x * x for x in nums)\n",
    "s"
   ]
  },
  {
   "cell_type": "markdown",
   "metadata": {},
   "source": [
    "## 某个文件夹下是否存在.py文件"
   ]
  },
  {
   "cell_type": "code",
   "execution_count": 2,
   "metadata": {
    "ExecuteTime": {
     "end_time": "2017-09-09T04:47:20.999726Z",
     "start_time": "2017-09-09T04:47:20.974659Z"
    }
   },
   "outputs": [
    {
     "name": "stdout",
     "output_type": "stream",
     "text": [
      "There be python!\n"
     ]
    }
   ],
   "source": [
    "import os\n",
    "files = os.listdir('D:\\Desktop\\github\\Python-Cookbook-Notes\\ch01数据结构和算法')\n",
    "if any(name.endswith(\".py\") for name in files):\n",
    "    print(\"There be python!\")\n",
    "else:\n",
    "    print(\"Sorry, no python.\")"
   ]
  },
  {
   "cell_type": "markdown",
   "metadata": {},
   "source": [
    "## Output a tuple as CSV"
   ]
  },
  {
   "cell_type": "code",
   "execution_count": 3,
   "metadata": {
    "ExecuteTime": {
     "end_time": "2017-09-09T04:47:21.013763Z",
     "start_time": "2017-09-09T04:47:21.001731Z"
    }
   },
   "outputs": [
    {
     "name": "stdout",
     "output_type": "stream",
     "text": [
      "ACME,50,123.45\n"
     ]
    }
   ],
   "source": [
    "s = ('ACME', 50, 123.45)\n",
    "print(\",\".join(str(x) for x in s))"
   ]
  },
  {
   "cell_type": "markdown",
   "metadata": {},
   "source": [
    "## Data reduction 换算"
   ]
  },
  {
   "cell_type": "code",
   "execution_count": 4,
   "metadata": {
    "ExecuteTime": {
     "end_time": "2017-09-09T04:47:21.030808Z",
     "start_time": "2017-09-09T04:47:21.015768Z"
    }
   },
   "outputs": [
    {
     "name": "stdout",
     "output_type": "stream",
     "text": [
      "{'name': 'AOL', 'shares': 20}\n",
      "20\n"
     ]
    }
   ],
   "source": [
    "portfolio = [\n",
    "    {'name': 'GOOG', 'shares': 50},\n",
    "    {'name': 'YHOO', 'shares': 75},\n",
    "    {'name': 'AOL', 'shares': 20},\n",
    "    {'name': 'SCOX', 'shares': 65},\n",
    "]\n",
    "min_shares = min(portfolio, key=lambda x: x['shares'])\n",
    "print(min_shares)\n",
    "min_shares = min(s['shares'] for s in portfolio)\n",
    "print(min_shares)"
   ]
  },
  {
   "cell_type": "markdown",
   "metadata": {},
   "source": [
    "## 当把生成器表达式作为函数的单独参数时在语法上有微妙之处：不必重复使用括号"
   ]
  },
  {
   "cell_type": "code",
   "execution_count": 5,
   "metadata": {
    "ExecuteTime": {
     "end_time": "2017-09-09T04:47:21.046850Z",
     "start_time": "2017-09-09T04:47:21.032814Z"
    },
    "collapsed": true
   },
   "outputs": [],
   "source": [
    "s = sum((x * x for x in nums))\n",
    "s = sum(x * x for x in nums)"
   ]
  },
  {
   "cell_type": "markdown",
   "metadata": {},
   "source": [
    "    以上两行代码效果一样\n",
    "    比起创建一个临时序列，使用生成器做参数更为高效优雅"
   ]
  },
  {
   "cell_type": "code",
   "execution_count": 6,
   "metadata": {
    "ExecuteTime": {
     "end_time": "2017-09-09T04:47:21.066904Z",
     "start_time": "2017-09-09T04:47:21.048856Z"
    },
    "collapsed": true
   },
   "outputs": [],
   "source": [
    "nums = [1, 2, 3, 4, 5]\n",
    "s = sum([x * x for x in nums])"
   ]
  },
  {
   "cell_type": "markdown",
   "metadata": {},
   "source": [
    "- 这种方法效果较差，创建了只用一次的临时列表，内存占用太多\n",
    "- <span class=\"girk\">基于生成器的解决方案可以以迭代的方式转换数据，因此在内存使用上更加高效</span>\n"
   ]
  }
 ],
 "metadata": {
  "hide_input": false,
  "kernelspec": {
   "display_name": "Python 3",
   "language": "python",
   "name": "python3"
  },
  "language_info": {
   "codemirror_mode": {
    "name": "ipython",
    "version": 3
   },
   "file_extension": ".py",
   "mimetype": "text/x-python",
   "name": "python",
   "nbconvert_exporter": "python",
   "pygments_lexer": "ipython3",
   "version": "3.6.1"
  },
  "toc": {
   "nav_menu": {},
   "number_sections": true,
   "sideBar": true,
   "skip_h1_title": false,
   "toc_cell": false,
   "toc_position": {},
   "toc_section_display": "block",
   "toc_window_display": false
  },
  "varInspector": {
   "cols": {
    "lenName": 16,
    "lenType": 16,
    "lenVar": 40
   },
   "kernels_config": {
    "python": {
     "delete_cmd_postfix": "",
     "delete_cmd_prefix": "del ",
     "library": "var_list.py",
     "varRefreshCmd": "print(var_dic_list())"
    },
    "r": {
     "delete_cmd_postfix": ") ",
     "delete_cmd_prefix": "rm(",
     "library": "var_list.r",
     "varRefreshCmd": "cat(var_dic_list()) "
    }
   },
   "types_to_exclude": [
    "module",
    "function",
    "builtin_function_or_method",
    "instance",
    "_Feature"
   ],
   "window_display": false
  }
 },
 "nbformat": 4,
 "nbformat_minor": 2
}
