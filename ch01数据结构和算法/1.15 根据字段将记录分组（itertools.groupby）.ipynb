{
 "cells": [
  {
   "cell_type": "markdown",
   "metadata": {},
   "source": [
    "# 根据字段将记录分组\n",
    "- 根据某个特定的字段（比如说日期）来分组迭代数据\n",
    "- 使用itertools.groupby()函数对数据进行分组"
   ]
  },
  {
   "cell_type": "code",
   "execution_count": 1,
   "metadata": {
    "ExecuteTime": {
     "end_time": "2017-09-09T03:27:26.308488Z",
     "start_time": "2017-09-09T03:27:26.300467Z"
    },
    "collapsed": true
   },
   "outputs": [],
   "source": [
    "from operator import itemgetter\n",
    "from itertools import groupby\n",
    "rows = [\n",
    "    {'address': '5142 N CLARK', 'date': '07/01/2012'},\n",
    "    {'address': '5148 N CLARK', 'date': '07/04/2012'},\n",
    "    {'address': '5800 N CLARK', 'date': '07/02/2012'},\n",
    "    {'address': '2122 N CLARK', 'date': '07/03/2012'},\n",
    "    {'address': '5645 N CLARK', 'date': '07/02/2012'},\n",
    "    {'address': '1060 N CLARK', 'date': '07/02/2012'},\n",
    "    {'address': '4801 N CLARK', 'date': '07/01/2012'},\n",
    "    {'address': '1039 N CLARK', 'date': '07/04/2012'},\n",
    "]"
   ]
  },
  {
   "cell_type": "markdown",
   "metadata": {},
   "source": [
    "## 公共键排序，前面有讲"
   ]
  },
  {
   "cell_type": "code",
   "execution_count": 2,
   "metadata": {
    "ExecuteTime": {
     "end_time": "2017-09-09T03:27:26.344583Z",
     "start_time": "2017-09-09T03:27:26.312498Z"
    }
   },
   "outputs": [
    {
     "data": {
      "text/plain": [
       "[{'address': '5142 N CLARK', 'date': '07/01/2012'},\n",
       " {'address': '4801 N CLARK', 'date': '07/01/2012'},\n",
       " {'address': '5800 N CLARK', 'date': '07/02/2012'},\n",
       " {'address': '5645 N CLARK', 'date': '07/02/2012'},\n",
       " {'address': '1060 N CLARK', 'date': '07/02/2012'},\n",
       " {'address': '2122 N CLARK', 'date': '07/03/2012'},\n",
       " {'address': '5148 N CLARK', 'date': '07/04/2012'},\n",
       " {'address': '1039 N CLARK', 'date': '07/04/2012'}]"
      ]
     },
     "execution_count": 2,
     "metadata": {},
     "output_type": "execute_result"
    }
   ],
   "source": [
    "rows.sort(key=itemgetter('date'))\n",
    "rows"
   ]
  },
  {
   "cell_type": "markdown",
   "metadata": {},
   "source": [
    "- <span class=\"mark\">groupby()只能检查连续的项，因此使用前需要排序</span>"
   ]
  },
  {
   "cell_type": "markdown",
   "metadata": {},
   "source": [
    "## 分组"
   ]
  },
  {
   "cell_type": "code",
   "execution_count": 3,
   "metadata": {
    "ExecuteTime": {
     "end_time": "2017-09-09T03:27:26.367644Z",
     "start_time": "2017-09-09T03:27:26.346588Z"
    }
   },
   "outputs": [
    {
     "name": "stdout",
     "output_type": "stream",
     "text": [
      "07/01/2012\n",
      "  {'address': '5142 N CLARK', 'date': '07/01/2012'}\n",
      "  {'address': '4801 N CLARK', 'date': '07/01/2012'}\n",
      "07/02/2012\n",
      "  {'address': '5800 N CLARK', 'date': '07/02/2012'}\n",
      "  {'address': '5645 N CLARK', 'date': '07/02/2012'}\n",
      "  {'address': '1060 N CLARK', 'date': '07/02/2012'}\n",
      "07/03/2012\n",
      "  {'address': '2122 N CLARK', 'date': '07/03/2012'}\n",
      "07/04/2012\n",
      "  {'address': '5148 N CLARK', 'date': '07/04/2012'}\n",
      "  {'address': '1039 N CLARK', 'date': '07/04/2012'}\n"
     ]
    }
   ],
   "source": [
    "for date, items in groupby(rows, key=itemgetter('date')):\n",
    "    print(date)\n",
    "    for i in items:\n",
    "        print(' ', i)"
   ]
  },
  {
   "cell_type": "markdown",
   "metadata": {
    "ExecuteTime": {
     "end_time": "2017-09-09T03:23:22.889120Z",
     "start_time": "2017-09-09T03:23:22.884080Z"
    }
   },
   "source": [
    "- groupby()通过扫描序列找出相同的值（或是由Key参数指定）的序列项\n",
    "- groupby()创建了一个子迭代器，而在每次迭代时都会返回一个值和子迭代器\n",
    "- 注意groupby()只能检查连续的项，因此在使用前需要先排序"
   ]
  },
  {
   "cell_type": "markdown",
   "metadata": {},
   "source": [
    "## 如果只是为了随机访问，那么使用defaultdict()构建一个一键多值的字典可能会更好, 前面1.6讲到了这个字典"
   ]
  },
  {
   "cell_type": "code",
   "execution_count": 4,
   "metadata": {
    "ExecuteTime": {
     "end_time": "2017-09-09T03:27:26.387699Z",
     "start_time": "2017-09-09T03:27:26.369650Z"
    }
   },
   "outputs": [
    {
     "name": "stdout",
     "output_type": "stream",
     "text": [
      "{'address': '5142 N CLARK', 'date': '07/01/2012'}\n",
      "{'address': '4801 N CLARK', 'date': '07/01/2012'}\n"
     ]
    }
   ],
   "source": [
    "from collections import defaultdict\n",
    "rows_by_date = defaultdict(list)\n",
    "for row in rows:\n",
    "    rows_by_date[row['date']].append(row)\n",
    "\n",
    "for r in rows_by_date['07/01/2012']:\n",
    "    print(r)"
   ]
  },
  {
   "cell_type": "markdown",
   "metadata": {},
   "source": [
    "- <span class=\"girk\">如果不考虑内存方面的因素，后面第二种方法要比第一种方便快，因为不需要排序</span>"
   ]
  }
 ],
 "metadata": {
  "hide_input": false,
  "kernelspec": {
   "display_name": "Python 3",
   "language": "python",
   "name": "python3"
  },
  "language_info": {
   "codemirror_mode": {
    "name": "ipython",
    "version": 3
   },
   "file_extension": ".py",
   "mimetype": "text/x-python",
   "name": "python",
   "nbconvert_exporter": "python",
   "pygments_lexer": "ipython3",
   "version": "3.6.1"
  },
  "toc": {
   "nav_menu": {},
   "number_sections": true,
   "sideBar": true,
   "skip_h1_title": false,
   "toc_cell": false,
   "toc_position": {},
   "toc_section_display": "block",
   "toc_window_display": false
  },
  "varInspector": {
   "cols": {
    "lenName": 16,
    "lenType": 16,
    "lenVar": 40
   },
   "kernels_config": {
    "python": {
     "delete_cmd_postfix": "",
     "delete_cmd_prefix": "del ",
     "library": "var_list.py",
     "varRefreshCmd": "print(var_dic_list())"
    },
    "r": {
     "delete_cmd_postfix": ") ",
     "delete_cmd_prefix": "rm(",
     "library": "var_list.r",
     "varRefreshCmd": "cat(var_dic_list()) "
    }
   },
   "types_to_exclude": [
    "module",
    "function",
    "builtin_function_or_method",
    "instance",
    "_Feature"
   ],
   "window_display": false
  }
 },
 "nbformat": 4,
 "nbformat_minor": 2
}
