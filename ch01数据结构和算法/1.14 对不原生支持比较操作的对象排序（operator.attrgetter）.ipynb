{
 "cells": [
  {
   "cell_type": "markdown",
   "metadata": {},
   "source": [
    "# 对不原生支持比较操作的对象排序\n",
    "- 使用lambda和operator.attrgetter"
   ]
  },
  {
   "cell_type": "markdown",
   "metadata": {},
   "source": [
    "## 使用lambda"
   ]
  },
  {
   "cell_type": "code",
   "execution_count": 1,
   "metadata": {
    "ExecuteTime": {
     "end_time": "2017-09-09T03:14:57.933554Z",
     "start_time": "2017-09-09T03:14:57.924530Z"
    }
   },
   "outputs": [],
   "source": [
    "class User:\n",
    "    def __init__(self, use_id):\n",
    "        self.use_id = use_id\n",
    "\n",
    "    def __repr__(self):\n",
    "        return 'User({})'.format(self.use_id)\n",
    "\n",
    "\n",
    "users = [User(23), User(3), User(99), User(1), User(4),\n",
    "         User(50), User(30), User(70), User(13)]"
   ]
  },
  {
   "cell_type": "code",
   "execution_count": 2,
   "metadata": {
    "ExecuteTime": {
     "end_time": "2017-09-09T03:14:58.175230Z",
     "start_time": "2017-09-09T03:14:57.935560Z"
    }
   },
   "outputs": [],
   "source": [
    "for i in range(100000):\n",
    "    sorted(users, key=lambda x: x.use_id)\n",
    "# 240ms"
   ]
  },
  {
   "cell_type": "markdown",
   "metadata": {},
   "source": [
    "## 使用operator.attrgetter()"
   ]
  },
  {
   "cell_type": "code",
   "execution_count": 3,
   "metadata": {
    "ExecuteTime": {
     "end_time": "2017-09-09T03:14:58.383791Z",
     "start_time": "2017-09-09T03:14:58.177201Z"
    }
   },
   "outputs": [],
   "source": [
    "from operator import attrgetter\n",
    "for i in range(100000):\n",
    "    sorted(users, key=attrgetter(\"use_id\"))\n",
    "# 206ms"
   ]
  },
  {
   "cell_type": "markdown",
   "metadata": {},
   "source": [
    "    通常来说使用attrgetter()要更快一些，而且具有同时提取多个字段的能力，前面讲公共键排序时类似\n",
    "    同样也适用于min、max等函数的key"
   ]
  },
  {
   "cell_type": "code",
   "execution_count": 4,
   "metadata": {
    "ExecuteTime": {
     "end_time": "2017-09-09T03:14:58.402803Z",
     "start_time": "2017-09-09T03:14:58.385757Z"
    }
   },
   "outputs": [
    {
     "data": {
      "text/plain": [
       "User(1)"
      ]
     },
     "execution_count": 4,
     "metadata": {},
     "output_type": "execute_result"
    }
   ],
   "source": [
    "min(users, key=attrgetter('use_id'))"
   ]
  }
 ],
 "metadata": {
  "hide_input": false,
  "kernelspec": {
   "display_name": "Python 3",
   "language": "python",
   "name": "python3"
  },
  "language_info": {
   "codemirror_mode": {
    "name": "ipython",
    "version": 3
   },
   "file_extension": ".py",
   "mimetype": "text/x-python",
   "name": "python",
   "nbconvert_exporter": "python",
   "pygments_lexer": "ipython3",
   "version": "3.6.1"
  },
  "toc": {
   "nav_menu": {},
   "number_sections": true,
   "sideBar": true,
   "skip_h1_title": false,
   "toc_cell": false,
   "toc_position": {},
   "toc_section_display": "block",
   "toc_window_display": false
  },
  "varInspector": {
   "cols": {
    "lenName": 16,
    "lenType": 16,
    "lenVar": 40
   },
   "kernels_config": {
    "python": {
     "delete_cmd_postfix": "",
     "delete_cmd_prefix": "del ",
     "library": "var_list.py",
     "varRefreshCmd": "print(var_dic_list())"
    },
    "r": {
     "delete_cmd_postfix": ") ",
     "delete_cmd_prefix": "rm(",
     "library": "var_list.r",
     "varRefreshCmd": "cat(var_dic_list()) "
    }
   },
   "types_to_exclude": [
    "module",
    "function",
    "builtin_function_or_method",
    "instance",
    "_Feature"
   ],
   "window_display": false
  }
 },
 "nbformat": 4,
 "nbformat_minor": 2
}
