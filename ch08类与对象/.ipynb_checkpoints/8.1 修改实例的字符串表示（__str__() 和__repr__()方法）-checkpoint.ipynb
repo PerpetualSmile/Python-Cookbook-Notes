{
 "cells": [
  {
   "cell_type": "markdown",
   "metadata": {},
   "source": [
    "# 修改实例的字符串表示\n",
    "- 我们想修改打印实例所产生的输出，使输出结果更加有意义"
   ]
  },
  {
   "cell_type": "markdown",
   "metadata": {},
   "source": [
    "## 要修改实例的字符串表示，可以通过定义```__str__()```和```__repr__()```方法来实现"
   ]
  },
  {
   "cell_type": "code",
   "execution_count": 1,
   "metadata": {},
   "outputs": [],
   "source": [
    "class Pair:\n",
    "    def __init__(self, x, y):\n",
    "        self.x = x\n",
    "        self.y = y\n",
    "    \n",
    "    def __repr__(self):\n",
    "        return 'Pair({0.x!r}, {0.y!r})'.format(self)\n",
    "    \n",
    "    def __str__(self):\n",
    "        return '({0.x!s}, {0.y!s})'.format(self)"
   ]
  },
  {
   "cell_type": "markdown",
   "metadata": {},
   "source": [
    "- 特殊方法```__repr__()```返回的是实例的代码表示(code representation)，通常可以用它返回的字符串文本来重新创建这个实例。obj == eval(repr(obj))\n",
    "- 特殊方法```__str__()```将实例转换为一个字符串，这也是由str()和print()函数所产生的输出\n",
    "- <span class=\"mark\">如果没有定义```__str__()```方法，那么就用```__repr__()```的输出当做备份</span>"
   ]
  },
  {
   "cell_type": "markdown",
   "metadata": {},
   "source": [
    "交互式环境下，名称输出为```__repr__()```"
   ]
  },
  {
   "cell_type": "code",
   "execution_count": 2,
   "metadata": {},
   "outputs": [
    {
     "data": {
      "text/plain": [
       "Pair(2, 3)"
      ]
     },
     "execution_count": 2,
     "metadata": {},
     "output_type": "execute_result"
    }
   ],
   "source": [
    "p = Pair(2, 3)\n",
    "p"
   ]
  },
  {
   "cell_type": "markdown",
   "metadata": {},
   "source": [
    "在定义了```__str__()```的情况下print()的输出是```__str__()```"
   ]
  },
  {
   "cell_type": "code",
   "execution_count": 3,
   "metadata": {},
   "outputs": [
    {
     "name": "stdout",
     "output_type": "stream",
     "text": [
      "(2, 3)\n"
     ]
    }
   ],
   "source": [
    "print(p)"
   ]
  },
  {
   "cell_type": "markdown",
   "metadata": {},
   "source": [
    "## 进行格式化输出时应该使用不同的字符串表示。特殊的格式化代码!r表示应该使用```__repr__()```输出，而不是默认的```__str__()```"
   ]
  },
  {
   "cell_type": "markdown",
   "metadata": {},
   "source": [
    "** <span class=\"mark\">使用!r和!s可以指定使用的输出方法</span> **"
   ]
  },
  {
   "cell_type": "code",
   "execution_count": 4,
   "metadata": {},
   "outputs": [
    {
     "name": "stdout",
     "output_type": "stream",
     "text": [
      "p is Pair(2, 3)\n"
     ]
    }
   ],
   "source": [
    "p = Pair(2, 3)\n",
    "print('p is {0!r}'.format(p))"
   ]
  },
  {
   "cell_type": "code",
   "execution_count": 5,
   "metadata": {},
   "outputs": [
    {
     "name": "stdout",
     "output_type": "stream",
     "text": [
      "p is (2, 3)\n"
     ]
    }
   ],
   "source": [
    "print('p is {0!s}'.format(p))"
   ]
  },
  {
   "cell_type": "markdown",
   "metadata": {},
   "source": [
    "定义Pair类的时候也用到了!r和!s，因为传入的参数x、y可能是其他类的实例，这样在Pair的```__repr__()```方法中使用!r可以保证输出的一致性。"
   ]
  },
  {
   "cell_type": "markdown",
   "metadata": {},
   "source": [
    "## 讨论"
   ]
  },
  {
   "cell_type": "markdown",
   "metadata": {},
   "source": [
    "- 定义```__repr__()```和```__str__()```通常被认为是好的编程实践，因为这样可以简化调试的过程和实例的输出。我们只通过打印实例，就能了解到关于这个实例的有用信息。"
   ]
  },
  {
   "cell_type": "markdown",
   "metadata": {},
   "source": [
    "- 对于```__repr__()```最标准的做法是让它产生的字符串文本能够满足eval(repr(x)) == x。如果不可能办到或者不希望有这种行为，那么通常就让它产生一段有帮助意义的文本，并且以<和>括起来。"
   ]
  },
  {
   "cell_type": "code",
   "execution_count": 6,
   "metadata": {},
   "outputs": [
    {
     "data": {
      "text/plain": [
       "<_io.TextIOWrapper name='8.1 修改实例的字符串表示（__str__() 和__repr__()方法）.ipynb' mode='r' encoding='cp936'>"
      ]
     },
     "execution_count": 6,
     "metadata": {},
     "output_type": "execute_result"
    }
   ],
   "source": [
    "f = open('8.1 修改实例的字符串表示（__str__() 和__repr__()方法）.ipynb')\n",
    "f"
   ]
  },
  {
   "cell_type": "markdown",
   "metadata": {},
   "source": [
    "- 解决方案中format()函数中格式化代码{0.x}用来指代参数0的x属性。在下面代码中，0实际上就是代表self"
   ]
  },
  {
   "cell_type": "code",
   "execution_count": 7,
   "metadata": {
    "collapsed": true
   },
   "outputs": [],
   "source": [
    "def __repr__(self):\n",
    "    return 'Pair({0.x!r}, {0.y!r})'.format(self)"
   ]
  },
  {
   "cell_type": "markdown",
   "metadata": {},
   "source": [
    "也可以这么写"
   ]
  },
  {
   "cell_type": "code",
   "execution_count": 8,
   "metadata": {
    "collapsed": true
   },
   "outputs": [],
   "source": [
    "def __repr__(self):\n",
    "    return 'Pair({0!r}, {1!r})'.format(self.x, self.y)"
   ]
  },
  {
   "cell_type": "markdown",
   "metadata": {},
   "source": [
    "也可以使用%操作符来写"
   ]
  },
  {
   "cell_type": "code",
   "execution_count": 9,
   "metadata": {
    "collapsed": true
   },
   "outputs": [],
   "source": [
    "def __repr__(self):\n",
    "    return 'Pair(%r, %r)' % (self.x, self.y)"
   ]
  }
 ],
 "metadata": {
  "hide_input": false,
  "kernelspec": {
   "display_name": "Python 3",
   "language": "python",
   "name": "python3"
  },
  "language_info": {
   "codemirror_mode": {
    "name": "ipython",
    "version": 3
   },
   "file_extension": ".py",
   "mimetype": "text/x-python",
   "name": "python",
   "nbconvert_exporter": "python",
   "pygments_lexer": "ipython3",
   "version": "3.6.1"
  },
  "toc": {
   "nav_menu": {},
   "number_sections": true,
   "sideBar": true,
   "skip_h1_title": false,
   "toc_cell": false,
   "toc_position": {},
   "toc_section_display": "block",
   "toc_window_display": false
  },
  "varInspector": {
   "cols": {
    "lenName": 16,
    "lenType": 16,
    "lenVar": 40
   },
   "kernels_config": {
    "python": {
     "delete_cmd_postfix": "",
     "delete_cmd_prefix": "del ",
     "library": "var_list.py",
     "varRefreshCmd": "print(var_dic_list())"
    },
    "r": {
     "delete_cmd_postfix": ") ",
     "delete_cmd_prefix": "rm(",
     "library": "var_list.r",
     "varRefreshCmd": "cat(var_dic_list()) "
    }
   },
   "types_to_exclude": [
    "module",
    "function",
    "builtin_function_or_method",
    "instance",
    "_Feature"
   ],
   "window_display": false
  }
 },
 "nbformat": 4,
 "nbformat_minor": 2
}
