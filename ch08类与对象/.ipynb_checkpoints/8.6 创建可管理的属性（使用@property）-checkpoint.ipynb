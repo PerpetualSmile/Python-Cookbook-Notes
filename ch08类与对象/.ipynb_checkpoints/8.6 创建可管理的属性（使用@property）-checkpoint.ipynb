{
 "cells": [
  {
   "cell_type": "markdown",
   "metadata": {},
   "source": [
    "# 创建可管理的属性\n",
    "- 在对实例属性的获取和设定上，我们希望增加一些额外的处理过程（比如类型检查或者验证）"
   ]
  },
  {
   "cell_type": "markdown",
   "metadata": {},
   "source": [
    "## 要自定义对属性的访问，一种简单的方式是将其定义为property"
   ]
  },
  {
   "cell_type": "code",
   "execution_count": 1,
   "metadata": {
    "ExecuteTime": {
     "end_time": "2017-10-28T02:51:29.119706Z",
     "start_time": "2017-10-28T02:51:29.108390Z"
    },
    "collapsed": true
   },
   "outputs": [],
   "source": [
    "class Person:\n",
    "    def __init__(self, first_name):\n",
    "        self.first_name = first_name\n",
    "        \n",
    "    # Getter function\n",
    "    @property\n",
    "    def first_name(self):\n",
    "        return self._first_name\n",
    "    \n",
    "    # Setter function\n",
    "    @first_name.setter\n",
    "    def first_name(self, value):\n",
    "        if not isinstance(value, str):\n",
    "            raise TypeError('Excepted a string')\n",
    "        self._first_name = value\n",
    "    \n",
    "    # Deleter function (optional)\n",
    "    @first_name.deleter\n",
    "    def first_name(self):\n",
    "        raise AttributeError(\"Cannot delete attributes\")"
   ]
  },
  {
   "cell_type": "markdown",
   "metadata": {},
   "source": [
    "上述代码中，一共有三个互相关联的方法，他们必须有着相同的名称。第一个方法是一个getter函数，并且将first_name定义为了property属性。其他两个方法将可选的setter和deleter函数附加到了first_name属性上。需要重点强调的是，<span class=\"mark\">除非first_name已经通过@property的方式定义为了porperty属性</span>，否则不能定义@first_name.setter和@first_name.deleter装饰器的。"
   ]
  },
  {
   "cell_type": "markdown",
   "metadata": {},
   "source": [
    "## property的重要特性就是它看起来像一个普通的属性，但是根据访问它的方式的不同，会自动触发getter、setter以及deleter方法。"
   ]
  },
  {
   "cell_type": "code",
   "execution_count": 2,
   "metadata": {
    "ExecuteTime": {
     "end_time": "2017-10-28T02:51:29.167861Z",
     "start_time": "2017-10-28T02:51:29.123214Z"
    }
   },
   "outputs": [
    {
     "data": {
      "text/plain": [
       "'Jack'"
      ]
     },
     "execution_count": 2,
     "metadata": {},
     "output_type": "execute_result"
    }
   ],
   "source": [
    "a = Person('Jack')\n",
    "a.first_name  # call the getter"
   ]
  },
  {
   "cell_type": "code",
   "execution_count": 3,
   "metadata": {
    "ExecuteTime": {
     "end_time": "2017-10-28T02:51:29.257638Z",
     "start_time": "2017-10-28T02:51:29.170367Z"
    }
   },
   "outputs": [
    {
     "ename": "TypeError",
     "evalue": "Excepted a string",
     "output_type": "error",
     "traceback": [
      "\u001b[1;31m---------------------------------------------------------------------------\u001b[0m",
      "\u001b[1;31mTypeError\u001b[0m                                 Traceback (most recent call last)",
      "\u001b[1;32m<ipython-input-3-43f54d8775cc>\u001b[0m in \u001b[0;36m<module>\u001b[1;34m()\u001b[0m\n\u001b[1;32m----> 1\u001b[1;33m \u001b[0ma\u001b[0m\u001b[1;33m.\u001b[0m\u001b[0mfirst_name\u001b[0m \u001b[1;33m=\u001b[0m \u001b[1;36m42\u001b[0m  \u001b[1;31m# call the setter\u001b[0m\u001b[1;33m\u001b[0m\u001b[0m\n\u001b[0m",
      "\u001b[1;32m<ipython-input-1-3819f1018bb1>\u001b[0m in \u001b[0;36mfirst_name\u001b[1;34m(self, value)\u001b[0m\n\u001b[0;32m     12\u001b[0m     \u001b[1;32mdef\u001b[0m \u001b[0mfirst_name\u001b[0m\u001b[1;33m(\u001b[0m\u001b[0mself\u001b[0m\u001b[1;33m,\u001b[0m \u001b[0mvalue\u001b[0m\u001b[1;33m)\u001b[0m\u001b[1;33m:\u001b[0m\u001b[1;33m\u001b[0m\u001b[0m\n\u001b[0;32m     13\u001b[0m         \u001b[1;32mif\u001b[0m \u001b[1;32mnot\u001b[0m \u001b[0misinstance\u001b[0m\u001b[1;33m(\u001b[0m\u001b[0mvalue\u001b[0m\u001b[1;33m,\u001b[0m \u001b[0mstr\u001b[0m\u001b[1;33m)\u001b[0m\u001b[1;33m:\u001b[0m\u001b[1;33m\u001b[0m\u001b[0m\n\u001b[1;32m---> 14\u001b[1;33m             \u001b[1;32mraise\u001b[0m \u001b[0mTypeError\u001b[0m\u001b[1;33m(\u001b[0m\u001b[1;34m'Excepted a string'\u001b[0m\u001b[1;33m)\u001b[0m\u001b[1;33m\u001b[0m\u001b[0m\n\u001b[0m\u001b[0;32m     15\u001b[0m         \u001b[0mself\u001b[0m\u001b[1;33m.\u001b[0m\u001b[0m_first_name\u001b[0m \u001b[1;33m=\u001b[0m \u001b[0mvalue\u001b[0m\u001b[1;33m\u001b[0m\u001b[0m\n\u001b[0;32m     16\u001b[0m \u001b[1;33m\u001b[0m\u001b[0m\n",
      "\u001b[1;31mTypeError\u001b[0m: Excepted a string"
     ]
    }
   ],
   "source": [
    "a.first_name = 42  # call the setter"
   ]
  },
  {
   "cell_type": "code",
   "execution_count": 4,
   "metadata": {
    "ExecuteTime": {
     "end_time": "2017-10-28T02:51:41.431048Z",
     "start_time": "2017-10-28T02:51:41.418982Z"
    }
   },
   "outputs": [
    {
     "ename": "AttributeError",
     "evalue": "Cannot delete attributes",
     "output_type": "error",
     "traceback": [
      "\u001b[1;31m---------------------------------------------------------------------------\u001b[0m",
      "\u001b[1;31mAttributeError\u001b[0m                            Traceback (most recent call last)",
      "\u001b[1;32m<ipython-input-4-1a9fb1f85422>\u001b[0m in \u001b[0;36m<module>\u001b[1;34m()\u001b[0m\n\u001b[1;32m----> 1\u001b[1;33m \u001b[1;32mdel\u001b[0m \u001b[0ma\u001b[0m\u001b[1;33m.\u001b[0m\u001b[0mfirst_name\u001b[0m  \u001b[1;31m# call the deleter\u001b[0m\u001b[1;33m\u001b[0m\u001b[0m\n\u001b[0m",
      "\u001b[1;32m<ipython-input-1-3819f1018bb1>\u001b[0m in \u001b[0;36mfirst_name\u001b[1;34m(self)\u001b[0m\n\u001b[0;32m     18\u001b[0m     \u001b[1;33m@\u001b[0m\u001b[0mfirst_name\u001b[0m\u001b[1;33m.\u001b[0m\u001b[0mdeleter\u001b[0m\u001b[1;33m\u001b[0m\u001b[0m\n\u001b[0;32m     19\u001b[0m     \u001b[1;32mdef\u001b[0m \u001b[0mfirst_name\u001b[0m\u001b[1;33m(\u001b[0m\u001b[0mself\u001b[0m\u001b[1;33m)\u001b[0m\u001b[1;33m:\u001b[0m\u001b[1;33m\u001b[0m\u001b[0m\n\u001b[1;32m---> 20\u001b[1;33m         \u001b[1;32mraise\u001b[0m \u001b[0mAttributeError\u001b[0m\u001b[1;33m(\u001b[0m\u001b[1;34m\"Cannot delete attributes\"\u001b[0m\u001b[1;33m)\u001b[0m\u001b[1;33m\u001b[0m\u001b[0m\n\u001b[0m",
      "\u001b[1;31mAttributeError\u001b[0m: Cannot delete attributes"
     ]
    }
   ],
   "source": [
    "del a.first_name  # call the deleter"
   ]
  },
  {
   "cell_type": "markdown",
   "metadata": {},
   "source": [
    "- 当我们实现一个property时，底层的数据仍需要被保存到某个地方。因此在get和set方法中，可以看到我们是直接对_first_name进行操作的，就是数据实际保存的地方。\n",
    "- 在```__init__()```方法中设置的是self.first_name是因为我们想在类进行初始化的时候就进行赋值的类型检查，因为self.first_name = a 会触发@first_name.setter，因此也会跳过上面的赋值语句，而去直接赋值给self._first_name"
   ]
  },
  {
   "cell_type": "markdown",
   "metadata": {},
   "source": [
    "## 讨论"
   ]
  },
  {
   "cell_type": "markdown",
   "metadata": {},
   "source": [
    "### property属性实际上就是把一系列的方法绑定到一起。如果检查类的property属性就会发现property自身所持有的属性fget、fset、fdel所代表的原始方法"
   ]
  },
  {
   "cell_type": "code",
   "execution_count": 5,
   "metadata": {
    "ExecuteTime": {
     "end_time": "2017-10-28T02:51:52.366962Z",
     "start_time": "2017-10-28T02:51:52.362453Z"
    }
   },
   "outputs": [
    {
     "data": {
      "text/plain": [
       "<function __main__.Person.first_name>"
      ]
     },
     "execution_count": 5,
     "metadata": {},
     "output_type": "execute_result"
    }
   ],
   "source": [
    "Person.first_name.fget"
   ]
  },
  {
   "cell_type": "code",
   "execution_count": 6,
   "metadata": {
    "ExecuteTime": {
     "end_time": "2017-10-28T02:51:52.450714Z",
     "start_time": "2017-10-28T02:51:52.427151Z"
    }
   },
   "outputs": [
    {
     "data": {
      "text/plain": [
       "<function __main__.Person.first_name>"
      ]
     },
     "execution_count": 6,
     "metadata": {},
     "output_type": "execute_result"
    }
   ],
   "source": [
    "Person.first_name.fset"
   ]
  },
  {
   "cell_type": "code",
   "execution_count": 7,
   "metadata": {
    "ExecuteTime": {
     "end_time": "2017-10-28T02:51:52.450714Z",
     "start_time": "2017-10-28T02:51:52.427151Z"
    }
   },
   "outputs": [
    {
     "data": {
      "text/plain": [
       "<function __main__.Person.first_name>"
      ]
     },
     "execution_count": 7,
     "metadata": {},
     "output_type": "execute_result"
    }
   ],
   "source": [
    "Person.first_name.fdel"
   ]
  },
  {
   "cell_type": "markdown",
   "metadata": {},
   "source": [
    "- 一般并不会直接去调用fget或者fset,但是当我们访问property属性时会自动触发对这些方法的调用\n",
    "- 只有当确实需要在访问属性时完成一些额外的处理任务时，才应该使用property。\n",
    "- 有时候java程序员会觉得所有的访问都需要通过getter和setter处理，那么他们代码应该这样："
   ]
  },
  {
   "cell_type": "code",
   "execution_count": 8,
   "metadata": {
    "ExecuteTime": {
     "end_time": "2017-10-28T02:51:52.472774Z",
     "start_time": "2017-10-28T02:51:52.456730Z"
    },
    "collapsed": true
   },
   "outputs": [],
   "source": [
    "class Person:\n",
    "    def __init__(self, first_name):\n",
    "        self.first_name = first_name\n",
    "\n",
    "    @property\n",
    "    def first_name(self):\n",
    "        return self._first_name\n",
    "    \n",
    "    @first_name.setter\n",
    "    def first_name(self, value):\n",
    "        self._first_name = value"
   ]
  },
  {
   "cell_type": "markdown",
   "metadata": {},
   "source": [
    "### 如果property并不会完成额外的处理任务，那么就不需要把代码写成上面这个样子。"
   ]
  },
  {
   "cell_type": "markdown",
   "metadata": {},
   "source": [
    "- 第一，这么做会使得代码变得更加啰嗦，对其他人来说也比较困惑。\n",
    "- 第二，这么做会让程序变慢很多\n",
    "- 最后，这么做不会给设计带来真正的好处"
   ]
  },
  {
   "cell_type": "markdown",
   "metadata": {},
   "source": [
    " ### property也可以用来定义需要计算的属性，这类属性并不会实际保存起来，而是根据需要完成计算。"
   ]
  },
  {
   "cell_type": "code",
   "execution_count": 9,
   "metadata": {
    "ExecuteTime": {
     "end_time": "2017-10-28T02:51:52.497839Z",
     "start_time": "2017-10-28T02:51:52.475780Z"
    },
    "collapsed": true
   },
   "outputs": [],
   "source": [
    "import math\n",
    "class Circle:\n",
    "    def __init__(self, radius):\n",
    "        self.radius = radius\n",
    "        \n",
    "    @property\n",
    "    def area(self):\n",
    "        return math.pi * self.radius ** 2\n",
    "    \n",
    "    @property\n",
    "    def perimeter(self):\n",
    "        return 2 * math.pi * self.radius"
   ]
  },
  {
   "cell_type": "markdown",
   "metadata": {},
   "source": [
    "这里对property的使用使得实例的接口变得非常统一，radius、areas以及perimeter都能够简单地以属性的形式进行访问，而不必将属性和方法调用混在一起使用了。"
   ]
  },
  {
   "cell_type": "code",
   "execution_count": 10,
   "metadata": {
    "ExecuteTime": {
     "end_time": "2017-10-28T02:51:52.525913Z",
     "start_time": "2017-10-28T02:51:52.500345Z"
    }
   },
   "outputs": [
    {
     "data": {
      "text/plain": [
       "4.0"
      ]
     },
     "execution_count": 10,
     "metadata": {},
     "output_type": "execute_result"
    }
   ],
   "source": [
    "c = Circle(4.0)\n",
    "c.radius"
   ]
  },
  {
   "cell_type": "markdown",
   "metadata": {},
   "source": [
    "<span class=\"mark\">不需要使用()</span>"
   ]
  },
  {
   "cell_type": "code",
   "execution_count": 11,
   "metadata": {
    "ExecuteTime": {
     "end_time": "2017-10-28T02:51:52.551481Z",
     "start_time": "2017-10-28T02:51:52.527919Z"
    }
   },
   "outputs": [
    {
     "data": {
      "text/plain": [
       "50.26548245743669"
      ]
     },
     "execution_count": 11,
     "metadata": {},
     "output_type": "execute_result"
    }
   ],
   "source": [
    "c.area"
   ]
  },
  {
   "cell_type": "code",
   "execution_count": 12,
   "metadata": {
    "ExecuteTime": {
     "end_time": "2017-10-28T02:51:52.572036Z",
     "start_time": "2017-10-28T02:51:52.554490Z"
    }
   },
   "outputs": [
    {
     "data": {
      "text/plain": [
       "25.132741228718345"
      ]
     },
     "execution_count": 12,
     "metadata": {},
     "output_type": "execute_result"
    }
   ],
   "source": [
    "c.perimeter"
   ]
  },
  {
   "cell_type": "markdown",
   "metadata": {},
   "source": [
    "### 不要编写那种定义了大量重复性property的代码。重复的代码会导致膨胀，容易出错，而且代码也十分丑陋。"
   ]
  },
  {
   "cell_type": "markdown",
   "metadata": {},
   "source": [
    "事实证明，利用描述符或者闭包能够更好地完成同样的任务，具体参见8.9节和9.21节"
   ]
  }
 ],
 "metadata": {
  "hide_input": false,
  "kernelspec": {
   "display_name": "Python 3",
   "language": "python",
   "name": "python3"
  },
  "language_info": {
   "codemirror_mode": {
    "name": "ipython",
    "version": 3
   },
   "file_extension": ".py",
   "mimetype": "text/x-python",
   "name": "python",
   "nbconvert_exporter": "python",
   "pygments_lexer": "ipython3",
   "version": "3.6.1"
  },
  "toc": {
   "nav_menu": {},
   "number_sections": true,
   "sideBar": true,
   "skip_h1_title": false,
   "toc_cell": false,
   "toc_position": {},
   "toc_section_display": "block",
   "toc_window_display": false
  },
  "varInspector": {
   "cols": {
    "lenName": 16,
    "lenType": 16,
    "lenVar": 40
   },
   "kernels_config": {
    "python": {
     "delete_cmd_postfix": "",
     "delete_cmd_prefix": "del ",
     "library": "var_list.py",
     "varRefreshCmd": "print(var_dic_list())"
    },
    "r": {
     "delete_cmd_postfix": ") ",
     "delete_cmd_prefix": "rm(",
     "library": "var_list.r",
     "varRefreshCmd": "cat(var_dic_list()) "
    }
   },
   "types_to_exclude": [
    "module",
    "function",
    "builtin_function_or_method",
    "instance",
    "_Feature"
   ],
   "window_display": false
  }
 },
 "nbformat": 4,
 "nbformat_minor": 2
}
