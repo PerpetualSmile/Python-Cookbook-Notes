{
 "cells": [
  {
   "cell_type": "markdown",
   "metadata": {},
   "source": [
    "# 将名称封装到类中(下划线的使用)"
   ]
  },
  {
   "cell_type": "markdown",
   "metadata": {},
   "source": [
    "- 我们想要将”私有“数据封装到类的实例上，但是又考虑到python缺乏对属性的访问控制问题\n",
    "- 与其依赖语言特性来封装数据，Python程序员们更希望通过特定的命名规则来表达出对其数据和方法的用途"
   ]
  },
  {
   "cell_type": "markdown",
   "metadata": {},
   "source": [
    "## 第一个规则是任何以单下划线(_)开头的名字应该总是被认为只属于内部实现"
   ]
  },
  {
   "cell_type": "code",
   "execution_count": 1,
   "metadata": {
    "ExecuteTime": {
     "end_time": "2017-10-27T15:22:26.547132Z",
     "start_time": "2017-10-27T15:22:26.539121Z"
    },
    "collapsed": true
   },
   "outputs": [],
   "source": [
    "class A:\n",
    "    def __init__(self):\n",
    "        self._internal = 0\n",
    "        self.public = 1\n",
    "        \n",
    "    def public_method(self):\n",
    "        pass\n",
    "    \n",
    "    def _internal_method(self):\n",
    "        pass"
   ]
  },
  {
   "cell_type": "markdown",
   "metadata": {},
   "source": [
    "- Python本身并不会阻止其他人访问内部名称。但如果有人这么做了，则被认为是粗鲁的，而且可能导致产生出脆弱不堪的代码\n",
    "- 以下划线打头的标识也可用于模块名称和模块级的函数中，使用这些时需要格外小心。"
   ]
  },
  {
   "cell_type": "markdown",
   "metadata": {},
   "source": [
    "## 以双下划线（__）打头的名称会出现名称重整的行为(name mangling)"
   ]
  },
  {
   "cell_type": "code",
   "execution_count": 2,
   "metadata": {
    "ExecuteTime": {
     "end_time": "2017-10-27T15:22:26.587161Z",
     "start_time": "2017-10-27T15:22:26.549138Z"
    },
    "collapsed": true
   },
   "outputs": [],
   "source": [
    "class B:\n",
    "    def __init__(self):\n",
    "        self.__private = 0\n",
    "    \n",
    "    def __private_method(self):\n",
    "        print(0)\n",
    "    \n",
    "    def public_method(self):\n",
    "        self.__private_method()"
   ]
  },
  {
   "cell_type": "markdown",
   "metadata": {},
   "source": [
    "- 具体来说就是类的双下划线的属性会分别被重命名为```_B__private```和```_B__private_method```\n",
    "- 重整的目的就是为了继承——这样的属性不能通过继承而覆盖"
   ]
  },
  {
   "cell_type": "code",
   "execution_count": 3,
   "metadata": {
    "ExecuteTime": {
     "end_time": "2017-10-27T15:22:26.607213Z",
     "start_time": "2017-10-27T15:22:26.589170Z"
    },
    "collapsed": true
   },
   "outputs": [],
   "source": [
    "class C(B):\n",
    "    def __init__(self):\n",
    "        super().__init__()\n",
    "        self.__private = 1\n",
    "    def __private_method(self):\n",
    "        print(1)"
   ]
  },
  {
   "cell_type": "code",
   "execution_count": 4,
   "metadata": {
    "ExecuteTime": {
     "end_time": "2017-10-27T15:22:26.628270Z",
     "start_time": "2017-10-27T15:22:26.610226Z"
    }
   },
   "outputs": [],
   "source": [
    "test = C()\n",
    "text1 = B()"
   ]
  },
  {
   "cell_type": "code",
   "execution_count": 5,
   "metadata": {
    "ExecuteTime": {
     "end_time": "2017-10-27T15:22:26.662359Z",
     "start_time": "2017-10-27T15:22:26.630276Z"
    }
   },
   "outputs": [
    {
     "data": {
      "text/plain": [
       "0"
      ]
     },
     "execution_count": 5,
     "metadata": {},
     "output_type": "execute_result"
    }
   ],
   "source": [
    "text1._B__private"
   ]
  },
  {
   "cell_type": "code",
   "execution_count": 6,
   "metadata": {
    "ExecuteTime": {
     "end_time": "2017-10-27T15:22:26.687427Z",
     "start_time": "2017-10-27T15:22:26.665368Z"
    }
   },
   "outputs": [
    {
     "data": {
      "text/plain": [
       "1"
      ]
     },
     "execution_count": 6,
     "metadata": {},
     "output_type": "execute_result"
    }
   ],
   "source": [
    "test._C__private"
   ]
  },
  {
   "cell_type": "code",
   "execution_count": 7,
   "metadata": {
    "ExecuteTime": {
     "end_time": "2017-10-27T15:22:26.716504Z",
     "start_time": "2017-10-27T15:22:26.690435Z"
    }
   },
   "outputs": [
    {
     "data": {
      "text/plain": [
       "0"
      ]
     },
     "execution_count": 7,
     "metadata": {},
     "output_type": "execute_result"
    }
   ],
   "source": [
    "test._B__private"
   ]
  },
  {
   "cell_type": "markdown",
   "metadata": {},
   "source": [
    "## 对于大部分的代码而言，我们应该让非公有的名称以单下划线开头。但是如果我们知道代码中会涉及子类化处理，而且有些内部属性应该对子类进行隐藏，那么此时就应该使用双下划线开头"
   ]
  },
  {
   "cell_type": "markdown",
   "metadata": {},
   "source": [
    "## 在名称最后加上一个单下划线以示和保留字的区别"
   ]
  },
  {
   "cell_type": "code",
   "execution_count": 8,
   "metadata": {
    "ExecuteTime": {
     "end_time": "2017-10-27T15:22:26.735554Z",
     "start_time": "2017-10-27T15:22:26.719512Z"
    },
    "collapsed": true
   },
   "outputs": [],
   "source": [
    "lambda_ = 1"
   ]
  },
  {
   "cell_type": "markdown",
   "metadata": {},
   "source": [
    "这里不采用下划线开头的原因是为了避免在使用意图上发生混淆。"
   ]
  }
 ],
 "metadata": {
  "hide_input": false,
  "kernelspec": {
   "display_name": "Python 3",
   "language": "python",
   "name": "python3"
  },
  "language_info": {
   "codemirror_mode": {
    "name": "ipython",
    "version": 3
   },
   "file_extension": ".py",
   "mimetype": "text/x-python",
   "name": "python",
   "nbconvert_exporter": "python",
   "pygments_lexer": "ipython3",
   "version": "3.6.1"
  },
  "toc": {
   "nav_menu": {},
   "number_sections": true,
   "sideBar": true,
   "skip_h1_title": false,
   "toc_cell": false,
   "toc_position": {},
   "toc_section_display": "block",
   "toc_window_display": false
  },
  "varInspector": {
   "cols": {
    "lenName": 16,
    "lenType": 16,
    "lenVar": 40
   },
   "kernels_config": {
    "python": {
     "delete_cmd_postfix": "",
     "delete_cmd_prefix": "del ",
     "library": "var_list.py",
     "varRefreshCmd": "print(var_dic_list())"
    },
    "r": {
     "delete_cmd_postfix": ") ",
     "delete_cmd_prefix": "rm(",
     "library": "var_list.r",
     "varRefreshCmd": "cat(var_dic_list()) "
    }
   },
   "types_to_exclude": [
    "module",
    "function",
    "builtin_function_or_method",
    "instance",
    "_Feature"
   ],
   "window_display": false
  }
 },
 "nbformat": 4,
 "nbformat_minor": 2
}
