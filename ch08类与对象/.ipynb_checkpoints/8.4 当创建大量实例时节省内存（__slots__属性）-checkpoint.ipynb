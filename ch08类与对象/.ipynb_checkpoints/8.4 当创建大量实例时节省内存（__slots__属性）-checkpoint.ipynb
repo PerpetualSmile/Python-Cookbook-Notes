{
 "cells": [
  {
   "cell_type": "markdown",
   "metadata": {},
   "source": [
    "# 当创建大量实例时如何节省内存"
   ]
  },
  {
   "cell_type": "markdown",
   "metadata": {},
   "source": [
    "## 对于那些主要用作简单的数据结构的类，通常可以在类中定义增加```__slots__```属性，以此来大量减少对内存的使用。"
   ]
  },
  {
   "cell_type": "code",
   "execution_count": 1,
   "metadata": {
    "ExecuteTime": {
     "end_time": "2017-10-27T13:54:15.923316Z",
     "start_time": "2017-10-27T13:54:15.917299Z"
    }
   },
   "outputs": [],
   "source": [
    "class Date:\n",
    "    __slots__ = ['year', 'month', 'day']\n",
    "    def __init__(self, year, month, day):\n",
    "        self.year = year\n",
    "        self.month = month\n",
    "        self.day = day"
   ]
  },
  {
   "cell_type": "markdown",
   "metadata": {},
   "source": [
    "- 当定义了__slots__属性时，Python就会针对实例采用一种更加紧凑的内部表示。不再让每个实例都创建一个```__dict__```字典，现在的实例是围绕着一个固定长度的小型数组来构建的，这和一个元组或者列表很相似。\n",
    "- 在```__slots__```中列出的属性名会在内部映射到这个数组的特定索引上。\n",
    "- 使用```__slots__```带来的副作用是我们没法再对实例添加任何新的属性了，我们被限制为只允许使用slots中列出的那些属性名。"
   ]
  },
  {
   "cell_type": "markdown",
   "metadata": {},
   "source": [
    "- 使用了```__slots__```属性之后一般来说使用的内存量相当于将数据保存在元组中。在一个需要同时处理大量Date实例的程序中将显著减少总的内存使用量"
   ]
  },
  {
   "cell_type": "markdown",
   "metadata": {},
   "source": [
    "- 尽管```__slots__```属性看起来是个非常有用的特性，但是在大部分代码中都应该尽量别使用它。定义了slots属性的类不支持某些特定的功能，比如多重继承。\n",
    "- 我们应该只针对那些在程序中被当作数据结构而频繁使用的类上采用```__slots__```技法"
   ]
  },
  {
   "cell_type": "markdown",
   "metadata": {},
   "source": [
    "- 关于slots的一个常见的误解是认为这只是一种封装工具，可以阻止用户为实例添加新的属性。虽然这是它的副作用，但是绝非原本意图。\n",
    "- 人们一直以来都把```__slots__```当做一种优化工具"
   ]
  }
 ],
 "metadata": {
  "hide_input": false,
  "kernelspec": {
   "display_name": "Python 3",
   "language": "python",
   "name": "python3"
  },
  "language_info": {
   "codemirror_mode": {
    "name": "ipython",
    "version": 3
   },
   "file_extension": ".py",
   "mimetype": "text/x-python",
   "name": "python",
   "nbconvert_exporter": "python",
   "pygments_lexer": "ipython3",
   "version": "3.6.1"
  },
  "toc": {
   "nav_menu": {},
   "number_sections": true,
   "sideBar": true,
   "skip_h1_title": false,
   "toc_cell": false,
   "toc_position": {},
   "toc_section_display": "block",
   "toc_window_display": false
  },
  "varInspector": {
   "cols": {
    "lenName": 16,
    "lenType": 16,
    "lenVar": 40
   },
   "kernels_config": {
    "python": {
     "delete_cmd_postfix": "",
     "delete_cmd_prefix": "del ",
     "library": "var_list.py",
     "varRefreshCmd": "print(var_dic_list())"
    },
    "r": {
     "delete_cmd_postfix": ") ",
     "delete_cmd_prefix": "rm(",
     "library": "var_list.r",
     "varRefreshCmd": "cat(var_dic_list()) "
    }
   },
   "types_to_exclude": [
    "module",
    "function",
    "builtin_function_or_method",
    "instance",
    "_Feature"
   ],
   "window_display": false
  }
 },
 "nbformat": 4,
 "nbformat_minor": 2
}
